{
 "cells": [
  {
   "cell_type": "code",
   "execution_count": 1,
   "id": "3ed5b556-33b2-4f6a-9382-b72a3922d72b",
   "metadata": {},
   "outputs": [],
   "source": [
    "import pandas as pd\n",
    "import numpy as np\n",
    "import matplotlib.pyplot as plt\n",
    "import seaborn as sns\n",
    "\n",
    "from sklearn.preprocessing import OneHotEncoder\n",
    "from sklearn.preprocessing import StandardScaler\n",
    "from sklearn.model_selection import train_test_split\n",
    "\n",
    "from sklearn.linear_model import LinearRegression\n",
    "from sklearn.metrics import mean_squared_error\n",
    "from sklearn.metrics import r2_score"
   ]
  },
  {
   "cell_type": "code",
   "execution_count": 2,
   "id": "7f52cea8-8c84-4f64-a140-a5e649fbcc1d",
   "metadata": {},
   "outputs": [],
   "source": [
    "df = pd.read_csv(\"../input/laptop_price_cleaned.csv\")"
   ]
  },
  {
   "cell_type": "code",
   "execution_count": 3,
   "id": "3ff747e8-2c4d-4a71-bb71-b450acc44fc2",
   "metadata": {},
   "outputs": [],
   "source": [
    "target = \"Price_euros\"\n",
    "\n",
    "y = df[target]\n",
    "X = df.drop(target, axis=1)"
   ]
  },
  {
   "cell_type": "code",
   "execution_count": 4,
   "id": "2c7bf6b8-0ca7-4b7a-982c-2699fa8a64a1",
   "metadata": {},
   "outputs": [],
   "source": [
    "categorical_columns = X.select_dtypes(include=['category', 'object']).columns.tolist()\n",
    "continuous_columns = X.select_dtypes(include=['float64', 'int64']).columns.tolist()"
   ]
  },
  {
   "cell_type": "code",
   "execution_count": 5,
   "id": "5343bf7b-258c-4088-9867-723d758c4307",
   "metadata": {},
   "outputs": [
    {
     "name": "stdout",
     "output_type": "stream",
     "text": [
      "Categorical features and their unique values\n",
      "Company: 9\n",
      "Product: 617\n",
      "TypeName: 6\n",
      "Ram: 9\n",
      "Memory: 39\n",
      "OpSys: 6\n",
      "Model: 225\n",
      "DisplayType: 23\n",
      "CpuBrand: 2\n",
      "CpuProduct: 92\n",
      "PrimaryMemory: 30\n",
      "PrimaryMemSize: 14\n",
      "PrimaryMemType: 7\n",
      "Gpu_Brand: 3\n",
      "Gpu_Product: 24\n"
     ]
    }
   ],
   "source": [
    "print(\"Categorical features and their unique values\")\n",
    "for c in categorical_columns:\n",
    "    print(f\"{c}:\", X[c].nunique())    "
   ]
  },
  {
   "cell_type": "code",
   "execution_count": 6,
   "id": "7a9daa7c-43fd-4918-84b9-f1507ab4d57d",
   "metadata": {},
   "outputs": [
    {
     "data": {
      "text/plain": [
       "['Inches',\n",
       " 'Weight_kg',\n",
       " 'LogPrice',\n",
       " 'Inches_Binned',\n",
       " 'Touchscreen',\n",
       " 'IPS Panel',\n",
       " 'RetinaDisplay',\n",
       " 'ResolutionWidth',\n",
       " 'ResolutionHeight',\n",
       " 'ResolutionWidthCat',\n",
       " 'CpuClockSpeed_GHz',\n",
       " 'Ram_GB',\n",
       " 'SecondaryMemory']"
      ]
     },
     "execution_count": 6,
     "metadata": {},
     "output_type": "execute_result"
    }
   ],
   "source": [
    "continuous_columns"
   ]
  },
  {
   "cell_type": "markdown",
   "id": "e9833f4f-e840-4937-a550-8d16d2b28639",
   "metadata": {},
   "source": [
    "#### Dropping Columns"
   ]
  },
  {
   "cell_type": "code",
   "execution_count": 7,
   "id": "fc688f7b-5524-4df0-bdb9-e3b2e4415651",
   "metadata": {},
   "outputs": [],
   "source": [
    "#cols = [\"Product\", \"Model\", \"CpuProduct\", \"LogPrice\", \"Price_euros\", \"ResolutionWidth\"] # Weight Gpu\n",
    "\n",
    "cols = [\"Product\", \"Model\", \"CpuProduct\", \"LogPrice\", \"Price_euros\", \"ResolutionWidth\", \"Inches\"] # Weight Gpu\n",
    "\n",
    "df_ = df.drop(cols, axis=1)"
   ]
  },
  {
   "cell_type": "code",
   "execution_count": 8,
   "id": "3d1adc74-e96a-4cd0-a846-a0a1d9cb631b",
   "metadata": {},
   "outputs": [
    {
     "data": {
      "text/plain": [
       "Index(['Company', 'TypeName', 'Ram', 'Memory', 'OpSys', 'Weight_kg',\n",
       "       'Inches_Binned', 'DisplayType', 'Touchscreen', 'IPS Panel',\n",
       "       'RetinaDisplay', 'ResolutionHeight', 'ResolutionWidthCat', 'CpuBrand',\n",
       "       'CpuClockSpeed_GHz', 'Ram_GB', 'PrimaryMemory', 'SecondaryMemory',\n",
       "       'PrimaryMemSize', 'PrimaryMemType', 'Gpu_Brand', 'Gpu_Product'],\n",
       "      dtype='object')"
      ]
     },
     "execution_count": 8,
     "metadata": {},
     "output_type": "execute_result"
    }
   ],
   "source": [
    "df_.columns"
   ]
  },
  {
   "cell_type": "code",
   "execution_count": 9,
   "id": "765ee73e-e242-46e3-81e4-63d687256117",
   "metadata": {},
   "outputs": [],
   "source": [
    "categorical_columns = df_.select_dtypes(include=['category', 'object']).columns.tolist()\n",
    "\n",
    "\n",
    "continuous_columns = df_.select_dtypes(include=['float64', 'int64']).columns.tolist()"
   ]
  },
  {
   "cell_type": "code",
   "execution_count": 10,
   "id": "afef3a48-c7f4-4f87-8181-669257dbc585",
   "metadata": {},
   "outputs": [],
   "source": [
    "#categorical_columns = ['Company','TypeName', 'Ram', 'Memory', 'OpSys',\n",
    "# 'DisplayType','CpuBrand','PrimaryMemory','SecondaryMemory','Gpu_Brand',\n",
    "# 'Gpu_Product', \"Inches_Binned\", \"ResolutionWidthCat\"]"
   ]
  },
  {
   "cell_type": "code",
   "execution_count": 11,
   "id": "d03dd7c7-4712-4899-91cb-778b11a82810",
   "metadata": {},
   "outputs": [],
   "source": [
    "categorical_columns = ['TypeName', 'Ram', 'OpSys', 'ResolutionWidthCat', 'Inches_Binned', 'CpuBrand', 'Gpu_Brand', 'SecondaryMemory',\n",
    "                      #\"PrimaryMemSize\"]#, \n",
    "                        \"PrimaryMemType\"]\n",
    "\n",
    "#'DisplayType','PrimaryMemory',]\n",
    "# 'Gpu_Product']"
   ]
  },
  {
   "cell_type": "code",
   "execution_count": 12,
   "id": "6524391e-b3a9-4644-87e4-aaa1e6b63676",
   "metadata": {},
   "outputs": [
    {
     "data": {
      "text/plain": [
       "Index(['Company', 'Product', 'TypeName', 'Inches', 'Ram', 'Memory', 'OpSys',\n",
       "       'Weight_kg', 'Price_euros', 'LogPrice', 'Model', 'Inches_Binned',\n",
       "       'DisplayType', 'Touchscreen', 'IPS Panel', 'RetinaDisplay',\n",
       "       'ResolutionWidth', 'ResolutionHeight', 'ResolutionWidthCat', 'CpuBrand',\n",
       "       'CpuProduct', 'CpuClockSpeed_GHz', 'Ram_GB', 'PrimaryMemory',\n",
       "       'SecondaryMemory', 'PrimaryMemSize', 'PrimaryMemType', 'Gpu_Brand',\n",
       "       'Gpu_Product'],\n",
       "      dtype='object')"
      ]
     },
     "execution_count": 12,
     "metadata": {},
     "output_type": "execute_result"
    }
   ],
   "source": [
    "df.columns"
   ]
  },
  {
   "cell_type": "code",
   "execution_count": 13,
   "id": "0d5d6afe-808c-4342-9e5e-d227fd8bc8de",
   "metadata": {},
   "outputs": [
    {
     "data": {
      "text/plain": [
       "Gpu_Brand\n",
       "Intel     722\n",
       "Nvidia    400\n",
       "AMD       180\n",
       "Name: count, dtype: int64"
      ]
     },
     "execution_count": 13,
     "metadata": {},
     "output_type": "execute_result"
    }
   ],
   "source": [
    "df.Gpu_Brand.value_counts()"
   ]
  },
  {
   "cell_type": "code",
   "execution_count": 14,
   "id": "ecebb66e-a80a-4548-b232-01b399b8e1d7",
   "metadata": {},
   "outputs": [
    {
     "data": {
      "text/plain": [
       "Gpu_Brand\n",
       "Intel     722\n",
       "Nvidia    400\n",
       "AMD       180\n",
       "Name: count, dtype: int64"
      ]
     },
     "execution_count": 14,
     "metadata": {},
     "output_type": "execute_result"
    }
   ],
   "source": [
    "df.Gpu_Brand.value_counts()"
   ]
  },
  {
   "cell_type": "code",
   "execution_count": 15,
   "id": "cfd76af4-3d5f-4892-af7e-258f7ddcdd80",
   "metadata": {},
   "outputs": [],
   "source": [
    "continuous_columns = ['Weight_kg', #'ResolutionHeight',\n",
    " 'CpuClockSpeed_GHz', 'Ram_GB']"
   ]
  },
  {
   "cell_type": "code",
   "execution_count": null,
   "id": "b919739c-877d-4c79-9888-f3f4b98bd6a1",
   "metadata": {},
   "outputs": [],
   "source": []
  },
  {
   "cell_type": "code",
   "execution_count": 16,
   "id": "b14c102e-6d4e-475d-ae0d-5241d815cbf7",
   "metadata": {},
   "outputs": [],
   "source": [
    "binary_cols = [\"Touchscreen\", \"IPS Panel\", \"RetinaDisplay\"]"
   ]
  },
  {
   "cell_type": "code",
   "execution_count": 17,
   "id": "dbd42f7a-e4e7-4639-8fde-00f06b6b7e76",
   "metadata": {},
   "outputs": [
    {
     "data": {
      "text/html": [
       "<div>\n",
       "<style scoped>\n",
       "    .dataframe tbody tr th:only-of-type {\n",
       "        vertical-align: middle;\n",
       "    }\n",
       "\n",
       "    .dataframe tbody tr th {\n",
       "        vertical-align: top;\n",
       "    }\n",
       "\n",
       "    .dataframe thead th {\n",
       "        text-align: right;\n",
       "    }\n",
       "</style>\n",
       "<table border=\"1\" class=\"dataframe\">\n",
       "  <thead>\n",
       "    <tr style=\"text-align: right;\">\n",
       "      <th></th>\n",
       "      <th>Weight_kg</th>\n",
       "      <th>CpuClockSpeed_GHz</th>\n",
       "      <th>Ram_GB</th>\n",
       "    </tr>\n",
       "  </thead>\n",
       "  <tbody>\n",
       "    <tr>\n",
       "      <th>0</th>\n",
       "      <td>1.37</td>\n",
       "      <td>2.3</td>\n",
       "      <td>8</td>\n",
       "    </tr>\n",
       "    <tr>\n",
       "      <th>1</th>\n",
       "      <td>1.34</td>\n",
       "      <td>1.8</td>\n",
       "      <td>8</td>\n",
       "    </tr>\n",
       "    <tr>\n",
       "      <th>2</th>\n",
       "      <td>1.86</td>\n",
       "      <td>2.5</td>\n",
       "      <td>8</td>\n",
       "    </tr>\n",
       "    <tr>\n",
       "      <th>3</th>\n",
       "      <td>1.83</td>\n",
       "      <td>2.7</td>\n",
       "      <td>16</td>\n",
       "    </tr>\n",
       "    <tr>\n",
       "      <th>4</th>\n",
       "      <td>1.37</td>\n",
       "      <td>3.1</td>\n",
       "      <td>8</td>\n",
       "    </tr>\n",
       "    <tr>\n",
       "      <th>...</th>\n",
       "      <td>...</td>\n",
       "      <td>...</td>\n",
       "      <td>...</td>\n",
       "    </tr>\n",
       "    <tr>\n",
       "      <th>1297</th>\n",
       "      <td>1.80</td>\n",
       "      <td>2.5</td>\n",
       "      <td>4</td>\n",
       "    </tr>\n",
       "    <tr>\n",
       "      <th>1298</th>\n",
       "      <td>1.30</td>\n",
       "      <td>2.5</td>\n",
       "      <td>16</td>\n",
       "    </tr>\n",
       "    <tr>\n",
       "      <th>1299</th>\n",
       "      <td>1.50</td>\n",
       "      <td>1.6</td>\n",
       "      <td>2</td>\n",
       "    </tr>\n",
       "    <tr>\n",
       "      <th>1300</th>\n",
       "      <td>2.19</td>\n",
       "      <td>2.5</td>\n",
       "      <td>6</td>\n",
       "    </tr>\n",
       "    <tr>\n",
       "      <th>1301</th>\n",
       "      <td>2.20</td>\n",
       "      <td>1.6</td>\n",
       "      <td>4</td>\n",
       "    </tr>\n",
       "  </tbody>\n",
       "</table>\n",
       "<p>1302 rows × 3 columns</p>\n",
       "</div>"
      ],
      "text/plain": [
       "      Weight_kg  CpuClockSpeed_GHz  Ram_GB\n",
       "0          1.37                2.3       8\n",
       "1          1.34                1.8       8\n",
       "2          1.86                2.5       8\n",
       "3          1.83                2.7      16\n",
       "4          1.37                3.1       8\n",
       "...         ...                ...     ...\n",
       "1297       1.80                2.5       4\n",
       "1298       1.30                2.5      16\n",
       "1299       1.50                1.6       2\n",
       "1300       2.19                2.5       6\n",
       "1301       2.20                1.6       4\n",
       "\n",
       "[1302 rows x 3 columns]"
      ]
     },
     "execution_count": 17,
     "metadata": {},
     "output_type": "execute_result"
    }
   ],
   "source": [
    "df_[continuous_columns]"
   ]
  },
  {
   "cell_type": "markdown",
   "id": "8a6e6caa-93f1-46ff-9c48-a2eaf33321d3",
   "metadata": {},
   "source": [
    "#### Dummy Encoding"
   ]
  },
  {
   "cell_type": "code",
   "execution_count": 18,
   "id": "fb495f3e-c17b-48f2-af5d-63bd7f647db0",
   "metadata": {},
   "outputs": [],
   "source": [
    "encoder = OneHotEncoder(drop='first', sparse_output=False)"
   ]
  },
  {
   "cell_type": "code",
   "execution_count": 19,
   "id": "18a07f2e-d93c-43f3-a80d-c083b017d30c",
   "metadata": {},
   "outputs": [],
   "source": [
    "df_encoded = pd.DataFrame(encoder.fit_transform(df_[categorical_columns]))\n",
    "df_encoded.columns = encoder.get_feature_names_out(categorical_columns)"
   ]
  },
  {
   "cell_type": "code",
   "execution_count": 20,
   "id": "b1eb8f94-3133-4e27-8b9e-eec24d2c6c76",
   "metadata": {},
   "outputs": [],
   "source": [
    "df_encoded2 = pd.DataFrame(encoder.fit_transform(df_[binary_cols]))\n",
    "df_encoded2.columns = encoder.get_feature_names_out(binary_cols)"
   ]
  },
  {
   "cell_type": "code",
   "execution_count": 21,
   "id": "ea723eea-b2ee-4c24-8c69-c1992270750e",
   "metadata": {},
   "outputs": [],
   "source": [
    "df_encoded = pd.concat([df_encoded, df_encoded2], axis=1)"
   ]
  },
  {
   "cell_type": "markdown",
   "id": "b82ca63e-7071-4260-8f9c-539c910f49bf",
   "metadata": {},
   "source": [
    "#### Scaling"
   ]
  },
  {
   "cell_type": "code",
   "execution_count": 22,
   "id": "a5d6e22e-1af3-4db0-be69-0020b55ee8f1",
   "metadata": {},
   "outputs": [],
   "source": [
    "scaler = StandardScaler()"
   ]
  },
  {
   "cell_type": "code",
   "execution_count": 23,
   "id": "105d1fc5-acef-49db-8a69-ab5abd5c0c2d",
   "metadata": {},
   "outputs": [],
   "source": [
    "for col in binary_cols:\n",
    "    if col in continuous_columns:\n",
    "        continuous_columns.remove(col)"
   ]
  },
  {
   "cell_type": "code",
   "execution_count": 24,
   "id": "3a77aec5-7bd8-4b42-a5c8-a40176dda5e5",
   "metadata": {},
   "outputs": [],
   "source": [
    "df_scaled = scaler.fit_transform(df_[continuous_columns])"
   ]
  },
  {
   "cell_type": "code",
   "execution_count": 25,
   "id": "3a355db9-23c4-4dc4-8dc5-9f6a9703a206",
   "metadata": {},
   "outputs": [],
   "source": [
    "df_scaled = pd.DataFrame(df_scaled, columns=continuous_columns)"
   ]
  },
  {
   "cell_type": "markdown",
   "id": "872c4281-7f5c-4eed-8416-7412185e269e",
   "metadata": {},
   "source": [
    "#### Merge dfs"
   ]
  },
  {
   "cell_type": "code",
   "execution_count": 26,
   "id": "3ef1d6d9-815b-4524-b3b6-395cd6d1b3c8",
   "metadata": {},
   "outputs": [
    {
     "data": {
      "text/html": [
       "<div>\n",
       "<style scoped>\n",
       "    .dataframe tbody tr th:only-of-type {\n",
       "        vertical-align: middle;\n",
       "    }\n",
       "\n",
       "    .dataframe tbody tr th {\n",
       "        vertical-align: top;\n",
       "    }\n",
       "\n",
       "    .dataframe thead th {\n",
       "        text-align: right;\n",
       "    }\n",
       "</style>\n",
       "<table border=\"1\" class=\"dataframe\">\n",
       "  <thead>\n",
       "    <tr style=\"text-align: right;\">\n",
       "      <th></th>\n",
       "      <th>Weight_kg</th>\n",
       "      <th>CpuClockSpeed_GHz</th>\n",
       "      <th>Ram_GB</th>\n",
       "      <th>TypeName_Gaming</th>\n",
       "      <th>TypeName_Netbook</th>\n",
       "      <th>TypeName_Notebook</th>\n",
       "      <th>TypeName_Ultrabook</th>\n",
       "      <th>TypeName_Workstation</th>\n",
       "      <th>Ram_16GB</th>\n",
       "      <th>Ram_24GB</th>\n",
       "      <th>...</th>\n",
       "      <th>SecondaryMemory_1</th>\n",
       "      <th>PrimaryMemType_Flash Storage +</th>\n",
       "      <th>PrimaryMemType_HDD</th>\n",
       "      <th>PrimaryMemType_HDD +</th>\n",
       "      <th>PrimaryMemType_Hybrid</th>\n",
       "      <th>PrimaryMemType_SSD</th>\n",
       "      <th>PrimaryMemType_SSD +</th>\n",
       "      <th>Touchscreen_1</th>\n",
       "      <th>IPS Panel_1</th>\n",
       "      <th>RetinaDisplay_1</th>\n",
       "    </tr>\n",
       "  </thead>\n",
       "  <tbody>\n",
       "    <tr>\n",
       "      <th>0</th>\n",
       "      <td>-1.006613</td>\n",
       "      <td>0.001972</td>\n",
       "      <td>-0.075850</td>\n",
       "      <td>0.0</td>\n",
       "      <td>0.0</td>\n",
       "      <td>0.0</td>\n",
       "      <td>1.0</td>\n",
       "      <td>0.0</td>\n",
       "      <td>0.0</td>\n",
       "      <td>0.0</td>\n",
       "      <td>...</td>\n",
       "      <td>0.0</td>\n",
       "      <td>0.0</td>\n",
       "      <td>0.0</td>\n",
       "      <td>0.0</td>\n",
       "      <td>0.0</td>\n",
       "      <td>1.0</td>\n",
       "      <td>0.0</td>\n",
       "      <td>0.0</td>\n",
       "      <td>1.0</td>\n",
       "      <td>1.0</td>\n",
       "    </tr>\n",
       "    <tr>\n",
       "      <th>1</th>\n",
       "      <td>-1.051725</td>\n",
       "      <td>-0.985638</td>\n",
       "      <td>-0.075850</td>\n",
       "      <td>0.0</td>\n",
       "      <td>0.0</td>\n",
       "      <td>0.0</td>\n",
       "      <td>1.0</td>\n",
       "      <td>0.0</td>\n",
       "      <td>0.0</td>\n",
       "      <td>0.0</td>\n",
       "      <td>...</td>\n",
       "      <td>0.0</td>\n",
       "      <td>0.0</td>\n",
       "      <td>0.0</td>\n",
       "      <td>0.0</td>\n",
       "      <td>0.0</td>\n",
       "      <td>0.0</td>\n",
       "      <td>0.0</td>\n",
       "      <td>0.0</td>\n",
       "      <td>0.0</td>\n",
       "      <td>0.0</td>\n",
       "    </tr>\n",
       "    <tr>\n",
       "      <th>2</th>\n",
       "      <td>-0.269791</td>\n",
       "      <td>0.397016</td>\n",
       "      <td>-0.075850</td>\n",
       "      <td>0.0</td>\n",
       "      <td>0.0</td>\n",
       "      <td>1.0</td>\n",
       "      <td>0.0</td>\n",
       "      <td>0.0</td>\n",
       "      <td>0.0</td>\n",
       "      <td>0.0</td>\n",
       "      <td>...</td>\n",
       "      <td>0.0</td>\n",
       "      <td>0.0</td>\n",
       "      <td>0.0</td>\n",
       "      <td>0.0</td>\n",
       "      <td>0.0</td>\n",
       "      <td>1.0</td>\n",
       "      <td>0.0</td>\n",
       "      <td>0.0</td>\n",
       "      <td>0.0</td>\n",
       "      <td>0.0</td>\n",
       "    </tr>\n",
       "    <tr>\n",
       "      <th>3</th>\n",
       "      <td>-0.314903</td>\n",
       "      <td>0.792060</td>\n",
       "      <td>1.497958</td>\n",
       "      <td>0.0</td>\n",
       "      <td>0.0</td>\n",
       "      <td>0.0</td>\n",
       "      <td>1.0</td>\n",
       "      <td>0.0</td>\n",
       "      <td>1.0</td>\n",
       "      <td>0.0</td>\n",
       "      <td>...</td>\n",
       "      <td>0.0</td>\n",
       "      <td>0.0</td>\n",
       "      <td>0.0</td>\n",
       "      <td>0.0</td>\n",
       "      <td>0.0</td>\n",
       "      <td>1.0</td>\n",
       "      <td>0.0</td>\n",
       "      <td>0.0</td>\n",
       "      <td>1.0</td>\n",
       "      <td>1.0</td>\n",
       "    </tr>\n",
       "    <tr>\n",
       "      <th>4</th>\n",
       "      <td>-1.006613</td>\n",
       "      <td>1.582148</td>\n",
       "      <td>-0.075850</td>\n",
       "      <td>0.0</td>\n",
       "      <td>0.0</td>\n",
       "      <td>0.0</td>\n",
       "      <td>1.0</td>\n",
       "      <td>0.0</td>\n",
       "      <td>0.0</td>\n",
       "      <td>0.0</td>\n",
       "      <td>...</td>\n",
       "      <td>0.0</td>\n",
       "      <td>0.0</td>\n",
       "      <td>0.0</td>\n",
       "      <td>0.0</td>\n",
       "      <td>0.0</td>\n",
       "      <td>1.0</td>\n",
       "      <td>0.0</td>\n",
       "      <td>0.0</td>\n",
       "      <td>1.0</td>\n",
       "      <td>1.0</td>\n",
       "    </tr>\n",
       "    <tr>\n",
       "      <th>...</th>\n",
       "      <td>...</td>\n",
       "      <td>...</td>\n",
       "      <td>...</td>\n",
       "      <td>...</td>\n",
       "      <td>...</td>\n",
       "      <td>...</td>\n",
       "      <td>...</td>\n",
       "      <td>...</td>\n",
       "      <td>...</td>\n",
       "      <td>...</td>\n",
       "      <td>...</td>\n",
       "      <td>...</td>\n",
       "      <td>...</td>\n",
       "      <td>...</td>\n",
       "      <td>...</td>\n",
       "      <td>...</td>\n",
       "      <td>...</td>\n",
       "      <td>...</td>\n",
       "      <td>...</td>\n",
       "      <td>...</td>\n",
       "      <td>...</td>\n",
       "    </tr>\n",
       "    <tr>\n",
       "      <th>1297</th>\n",
       "      <td>-0.360015</td>\n",
       "      <td>0.397016</td>\n",
       "      <td>-0.862754</td>\n",
       "      <td>0.0</td>\n",
       "      <td>0.0</td>\n",
       "      <td>0.0</td>\n",
       "      <td>0.0</td>\n",
       "      <td>0.0</td>\n",
       "      <td>0.0</td>\n",
       "      <td>0.0</td>\n",
       "      <td>...</td>\n",
       "      <td>0.0</td>\n",
       "      <td>0.0</td>\n",
       "      <td>0.0</td>\n",
       "      <td>0.0</td>\n",
       "      <td>0.0</td>\n",
       "      <td>1.0</td>\n",
       "      <td>0.0</td>\n",
       "      <td>1.0</td>\n",
       "      <td>1.0</td>\n",
       "      <td>0.0</td>\n",
       "    </tr>\n",
       "    <tr>\n",
       "      <th>1298</th>\n",
       "      <td>-1.111874</td>\n",
       "      <td>0.397016</td>\n",
       "      <td>1.497958</td>\n",
       "      <td>0.0</td>\n",
       "      <td>0.0</td>\n",
       "      <td>0.0</td>\n",
       "      <td>0.0</td>\n",
       "      <td>0.0</td>\n",
       "      <td>1.0</td>\n",
       "      <td>0.0</td>\n",
       "      <td>...</td>\n",
       "      <td>0.0</td>\n",
       "      <td>0.0</td>\n",
       "      <td>0.0</td>\n",
       "      <td>0.0</td>\n",
       "      <td>0.0</td>\n",
       "      <td>1.0</td>\n",
       "      <td>0.0</td>\n",
       "      <td>1.0</td>\n",
       "      <td>1.0</td>\n",
       "      <td>0.0</td>\n",
       "    </tr>\n",
       "    <tr>\n",
       "      <th>1299</th>\n",
       "      <td>-0.811130</td>\n",
       "      <td>-1.380682</td>\n",
       "      <td>-1.256206</td>\n",
       "      <td>0.0</td>\n",
       "      <td>0.0</td>\n",
       "      <td>1.0</td>\n",
       "      <td>0.0</td>\n",
       "      <td>0.0</td>\n",
       "      <td>0.0</td>\n",
       "      <td>0.0</td>\n",
       "      <td>...</td>\n",
       "      <td>0.0</td>\n",
       "      <td>0.0</td>\n",
       "      <td>0.0</td>\n",
       "      <td>0.0</td>\n",
       "      <td>0.0</td>\n",
       "      <td>0.0</td>\n",
       "      <td>0.0</td>\n",
       "      <td>0.0</td>\n",
       "      <td>0.0</td>\n",
       "      <td>0.0</td>\n",
       "    </tr>\n",
       "    <tr>\n",
       "      <th>1300</th>\n",
       "      <td>0.226435</td>\n",
       "      <td>0.397016</td>\n",
       "      <td>-0.469302</td>\n",
       "      <td>0.0</td>\n",
       "      <td>0.0</td>\n",
       "      <td>1.0</td>\n",
       "      <td>0.0</td>\n",
       "      <td>0.0</td>\n",
       "      <td>0.0</td>\n",
       "      <td>0.0</td>\n",
       "      <td>...</td>\n",
       "      <td>0.0</td>\n",
       "      <td>0.0</td>\n",
       "      <td>1.0</td>\n",
       "      <td>0.0</td>\n",
       "      <td>0.0</td>\n",
       "      <td>0.0</td>\n",
       "      <td>0.0</td>\n",
       "      <td>0.0</td>\n",
       "      <td>0.0</td>\n",
       "      <td>0.0</td>\n",
       "    </tr>\n",
       "    <tr>\n",
       "      <th>1301</th>\n",
       "      <td>0.241473</td>\n",
       "      <td>-1.380682</td>\n",
       "      <td>-0.862754</td>\n",
       "      <td>0.0</td>\n",
       "      <td>0.0</td>\n",
       "      <td>1.0</td>\n",
       "      <td>0.0</td>\n",
       "      <td>0.0</td>\n",
       "      <td>0.0</td>\n",
       "      <td>0.0</td>\n",
       "      <td>...</td>\n",
       "      <td>0.0</td>\n",
       "      <td>0.0</td>\n",
       "      <td>1.0</td>\n",
       "      <td>0.0</td>\n",
       "      <td>0.0</td>\n",
       "      <td>0.0</td>\n",
       "      <td>0.0</td>\n",
       "      <td>0.0</td>\n",
       "      <td>0.0</td>\n",
       "      <td>0.0</td>\n",
       "    </tr>\n",
       "  </tbody>\n",
       "</table>\n",
       "<p>1302 rows × 51 columns</p>\n",
       "</div>"
      ],
      "text/plain": [
       "      Weight_kg  CpuClockSpeed_GHz    Ram_GB  TypeName_Gaming  \\\n",
       "0     -1.006613           0.001972 -0.075850              0.0   \n",
       "1     -1.051725          -0.985638 -0.075850              0.0   \n",
       "2     -0.269791           0.397016 -0.075850              0.0   \n",
       "3     -0.314903           0.792060  1.497958              0.0   \n",
       "4     -1.006613           1.582148 -0.075850              0.0   \n",
       "...         ...                ...       ...              ...   \n",
       "1297  -0.360015           0.397016 -0.862754              0.0   \n",
       "1298  -1.111874           0.397016  1.497958              0.0   \n",
       "1299  -0.811130          -1.380682 -1.256206              0.0   \n",
       "1300   0.226435           0.397016 -0.469302              0.0   \n",
       "1301   0.241473          -1.380682 -0.862754              0.0   \n",
       "\n",
       "      TypeName_Netbook  TypeName_Notebook  TypeName_Ultrabook  \\\n",
       "0                  0.0                0.0                 1.0   \n",
       "1                  0.0                0.0                 1.0   \n",
       "2                  0.0                1.0                 0.0   \n",
       "3                  0.0                0.0                 1.0   \n",
       "4                  0.0                0.0                 1.0   \n",
       "...                ...                ...                 ...   \n",
       "1297               0.0                0.0                 0.0   \n",
       "1298               0.0                0.0                 0.0   \n",
       "1299               0.0                1.0                 0.0   \n",
       "1300               0.0                1.0                 0.0   \n",
       "1301               0.0                1.0                 0.0   \n",
       "\n",
       "      TypeName_Workstation  Ram_16GB  Ram_24GB  ...  SecondaryMemory_1  \\\n",
       "0                      0.0       0.0       0.0  ...                0.0   \n",
       "1                      0.0       0.0       0.0  ...                0.0   \n",
       "2                      0.0       0.0       0.0  ...                0.0   \n",
       "3                      0.0       1.0       0.0  ...                0.0   \n",
       "4                      0.0       0.0       0.0  ...                0.0   \n",
       "...                    ...       ...       ...  ...                ...   \n",
       "1297                   0.0       0.0       0.0  ...                0.0   \n",
       "1298                   0.0       1.0       0.0  ...                0.0   \n",
       "1299                   0.0       0.0       0.0  ...                0.0   \n",
       "1300                   0.0       0.0       0.0  ...                0.0   \n",
       "1301                   0.0       0.0       0.0  ...                0.0   \n",
       "\n",
       "      PrimaryMemType_Flash Storage +  PrimaryMemType_HDD  \\\n",
       "0                                0.0                 0.0   \n",
       "1                                0.0                 0.0   \n",
       "2                                0.0                 0.0   \n",
       "3                                0.0                 0.0   \n",
       "4                                0.0                 0.0   \n",
       "...                              ...                 ...   \n",
       "1297                             0.0                 0.0   \n",
       "1298                             0.0                 0.0   \n",
       "1299                             0.0                 0.0   \n",
       "1300                             0.0                 1.0   \n",
       "1301                             0.0                 1.0   \n",
       "\n",
       "      PrimaryMemType_HDD +  PrimaryMemType_Hybrid  PrimaryMemType_SSD  \\\n",
       "0                      0.0                    0.0                 1.0   \n",
       "1                      0.0                    0.0                 0.0   \n",
       "2                      0.0                    0.0                 1.0   \n",
       "3                      0.0                    0.0                 1.0   \n",
       "4                      0.0                    0.0                 1.0   \n",
       "...                    ...                    ...                 ...   \n",
       "1297                   0.0                    0.0                 1.0   \n",
       "1298                   0.0                    0.0                 1.0   \n",
       "1299                   0.0                    0.0                 0.0   \n",
       "1300                   0.0                    0.0                 0.0   \n",
       "1301                   0.0                    0.0                 0.0   \n",
       "\n",
       "      PrimaryMemType_SSD +  Touchscreen_1  IPS Panel_1  RetinaDisplay_1  \n",
       "0                      0.0            0.0          1.0              1.0  \n",
       "1                      0.0            0.0          0.0              0.0  \n",
       "2                      0.0            0.0          0.0              0.0  \n",
       "3                      0.0            0.0          1.0              1.0  \n",
       "4                      0.0            0.0          1.0              1.0  \n",
       "...                    ...            ...          ...              ...  \n",
       "1297                   0.0            1.0          1.0              0.0  \n",
       "1298                   0.0            1.0          1.0              0.0  \n",
       "1299                   0.0            0.0          0.0              0.0  \n",
       "1300                   0.0            0.0          0.0              0.0  \n",
       "1301                   0.0            0.0          0.0              0.0  \n",
       "\n",
       "[1302 rows x 51 columns]"
      ]
     },
     "execution_count": 26,
     "metadata": {},
     "output_type": "execute_result"
    }
   ],
   "source": [
    "X = pd.merge(df_scaled, df_encoded, left_index=True, right_index=True)\n",
    "#X = df_scaled\n",
    "X"
   ]
  },
  {
   "cell_type": "markdown",
   "id": "e30b807e-9dd0-48f6-a9ef-ec1ce3270777",
   "metadata": {},
   "source": [
    "#### Test train split"
   ]
  },
  {
   "cell_type": "code",
   "execution_count": 27,
   "id": "a5198e01-81fa-4510-9b7c-984090fe0fe8",
   "metadata": {},
   "outputs": [],
   "source": [
    "X_train, X_test, y_train, y_test = train_test_split(X, y, test_size=0.2, random_state=42)"
   ]
  },
  {
   "cell_type": "markdown",
   "id": "38b87fa4-114c-4466-a4df-12394dec474f",
   "metadata": {},
   "source": [
    "#### Modelling"
   ]
  },
  {
   "cell_type": "code",
   "execution_count": 28,
   "id": "8aa62c92-afc4-431a-8f07-5da5d3d8afae",
   "metadata": {},
   "outputs": [
    {
     "name": "stdout",
     "output_type": "stream",
     "text": [
      "Mean Squared Error: 120896.06176082518\n",
      "Mean Absolute Error: 241.28632575965366\n",
      "Coefficients: [ 4.34779399e+01  1.14261688e+02  2.62515987e+02 -9.84427822e+01\n",
      " -1.19263079e+01 -1.80584286e+02  9.50321084e+01  6.76920344e+02\n",
      "  3.10378396e+02  4.83185475e+02  1.80103149e+02  5.49357926e+02\n",
      "  2.11695967e+02 -2.26216807e+02  7.40438188e+01  2.47584249e+02\n",
      " -6.76955211e+01 -1.36062092e+02  6.87884903e+01  3.60580365e+02\n",
      "  4.95062286e+02 -3.52090870e+02 -2.91138615e+02  8.08130286e+01\n",
      "  1.13380039e+02  2.94723993e+02  6.52049510e+02  4.41751908e+02\n",
      "  6.34297699e+02  8.68327118e+02  1.25094005e+03  1.30539057e+02\n",
      "  6.05381804e+02  2.47861550e+02  1.49393224e+02  1.70606344e+02\n",
      " -1.32750530e+01  2.84346657e+02  2.06845241e+02  8.49433500e+01\n",
      "  6.83772382e+01  7.63570991e+01 -9.09494702e-13  7.63715899e+01\n",
      " -4.93637953e+01  2.36962681e+01  2.01398775e+02  1.25720894e+02\n",
      "  3.05179524e+00  1.33388124e+01 -8.11347719e+02]\n",
      "Intercept: 312.3919739839324\n",
      "R^2 Score: 0.7597975093740013\n"
     ]
    }
   ],
   "source": [
    "model = LinearRegression()\n",
    "\n",
    "model.fit(X_train, y_train)\n",
    "y_pred = model.predict(X_test)\n",
    "\n",
    "mse = mean_squared_error(y_test, y_pred)\n",
    "print(\"Mean Squared Error:\", mse)\n",
    "\n",
    "absolute_error = np.abs(y_pred - y_test)\n",
    "mae = np.mean(absolute_error)\n",
    "print(\"Mean Absolute Error:\", mae)\n",
    "\n",
    "\n",
    "print(\"Coefficients:\", model.coef_)\n",
    "print(\"Intercept:\", model.intercept_)\n",
    "\n",
    "r2 = r2_score(y_test, y_pred)\n",
    "print(\"R^2 Score:\", r2)"
   ]
  },
  {
   "cell_type": "code",
   "execution_count": null,
   "id": "f6f2341c-a2bc-48ce-a8c2-61327848ff28",
   "metadata": {},
   "outputs": [],
   "source": []
  }
 ],
 "metadata": {
  "kernelspec": {
   "display_name": "Python 3 (ipykernel)",
   "language": "python",
   "name": "python3"
  },
  "language_info": {
   "codemirror_mode": {
    "name": "ipython",
    "version": 3
   },
   "file_extension": ".py",
   "mimetype": "text/x-python",
   "name": "python",
   "nbconvert_exporter": "python",
   "pygments_lexer": "ipython3",
   "version": "3.11.5"
  }
 },
 "nbformat": 4,
 "nbformat_minor": 5
}
