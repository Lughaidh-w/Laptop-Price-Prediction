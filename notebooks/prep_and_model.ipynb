{
 "cells": [
  {
   "cell_type": "code",
   "execution_count": 1,
   "id": "3ed5b556-33b2-4f6a-9382-b72a3922d72b",
   "metadata": {},
   "outputs": [],
   "source": [
    "import pandas as pd\n",
    "import matplotlib.pyplot as plt\n",
    "import seaborn as sns\n",
    "\n",
    "from sklearn.preprocessing import OneHotEncoder\n",
    "from sklearn.preprocessing import StandardScaler\n",
    "from sklearn.model_selection import train_test_split\n",
    "\n",
    "from sklearn.linear_model import LinearRegression\n",
    "from sklearn.metrics import mean_squared_error\n",
    "from sklearn.metrics import r2_score"
   ]
  },
  {
   "cell_type": "code",
   "execution_count": 2,
   "id": "7f52cea8-8c84-4f64-a140-a5e649fbcc1d",
   "metadata": {},
   "outputs": [],
   "source": [
    "df = pd.read_csv(\"../input/laptop_price_cleaned.csv\")"
   ]
  },
  {
   "cell_type": "code",
   "execution_count": 3,
   "id": "3ff747e8-2c4d-4a71-bb71-b450acc44fc2",
   "metadata": {},
   "outputs": [],
   "source": [
    "target = \"Price_euros\"\n",
    "\n",
    "y = df[target]\n",
    "X = df.drop(target, axis=1)"
   ]
  },
  {
   "cell_type": "code",
   "execution_count": 4,
   "id": "2c7bf6b8-0ca7-4b7a-982c-2699fa8a64a1",
   "metadata": {},
   "outputs": [],
   "source": [
    "categorical_columns = X.select_dtypes(include=['category', 'object']).columns.tolist()\n",
    "continuous_columns = X.select_dtypes(include=['float64', 'int64']).columns.tolist()"
   ]
  },
  {
   "cell_type": "code",
   "execution_count": 5,
   "id": "5343bf7b-258c-4088-9867-723d758c4307",
   "metadata": {},
   "outputs": [
    {
     "name": "stdout",
     "output_type": "stream",
     "text": [
      "Categorical features and their unique values\n",
      "Company: 9\n",
      "Product: 618\n",
      "TypeName: 6\n",
      "Ram: 9\n",
      "Memory: 39\n",
      "OpSys: 9\n",
      "Model: 225\n",
      "DisplayType: 23\n",
      "CpuBrand: 3\n",
      "CpuProduct: 93\n",
      "PrimaryMemory: 30\n",
      "SecondaryMemory: 7\n",
      "Gpu_Brand: 4\n",
      "Gpu_Product: 110\n"
     ]
    }
   ],
   "source": [
    "print(\"Categorical features and their unique values\")\n",
    "for c in categorical_columns:\n",
    "    print(f\"{c}:\", X[c].nunique())    "
   ]
  },
  {
   "cell_type": "code",
   "execution_count": 6,
   "id": "7a9daa7c-43fd-4918-84b9-f1507ab4d57d",
   "metadata": {},
   "outputs": [
    {
     "data": {
      "text/plain": [
       "['Inches',\n",
       " 'Weight_kg',\n",
       " 'LogPrice',\n",
       " 'Inches_Binned',\n",
       " 'Touchscreen',\n",
       " 'IPS Panel',\n",
       " 'RetinaDisplay',\n",
       " 'ResolutionWidth',\n",
       " 'ResolutionHeight',\n",
       " 'ResolutionWidthCat',\n",
       " 'CpuClockSpeed_GHz',\n",
       " 'Ram_GB']"
      ]
     },
     "execution_count": 6,
     "metadata": {},
     "output_type": "execute_result"
    }
   ],
   "source": [
    "continuous_columns"
   ]
  },
  {
   "cell_type": "markdown",
   "id": "e9833f4f-e840-4937-a550-8d16d2b28639",
   "metadata": {},
   "source": [
    "#### Dropping Columns"
   ]
  },
  {
   "cell_type": "code",
   "execution_count": 7,
   "id": "fc688f7b-5524-4df0-bdb9-e3b2e4415651",
   "metadata": {},
   "outputs": [],
   "source": [
    "cols = [\"Product\", \"Model\", \"CpuProduct\", \"LogPrice\", \"Price_euros\", \"ResolutionWidth\"] # Weight Gpu\n",
    "\n",
    "df_ = df.drop(cols, axis=1)"
   ]
  },
  {
   "cell_type": "code",
   "execution_count": 8,
   "id": "3d1adc74-e96a-4cd0-a846-a0a1d9cb631b",
   "metadata": {},
   "outputs": [
    {
     "data": {
      "text/plain": [
       "Index(['Company', 'TypeName', 'Inches', 'Ram', 'Memory', 'OpSys', 'Weight_kg',\n",
       "       'Inches_Binned', 'DisplayType', 'Touchscreen', 'IPS Panel',\n",
       "       'RetinaDisplay', 'ResolutionHeight', 'ResolutionWidthCat', 'CpuBrand',\n",
       "       'CpuClockSpeed_GHz', 'Ram_GB', 'PrimaryMemory', 'SecondaryMemory',\n",
       "       'Gpu_Brand', 'Gpu_Product'],\n",
       "      dtype='object')"
      ]
     },
     "execution_count": 8,
     "metadata": {},
     "output_type": "execute_result"
    }
   ],
   "source": [
    "df_.columns"
   ]
  },
  {
   "cell_type": "code",
   "execution_count": 9,
   "id": "765ee73e-e242-46e3-81e4-63d687256117",
   "metadata": {},
   "outputs": [],
   "source": [
    "categorical_columns = df_.select_dtypes(include=['category', 'object']).columns.tolist()\n",
    "continuous_columns = df_.select_dtypes(include=['float64', 'int64']).columns.tolist()"
   ]
  },
  {
   "cell_type": "code",
   "execution_count": 10,
   "id": "b14c102e-6d4e-475d-ae0d-5241d815cbf7",
   "metadata": {},
   "outputs": [],
   "source": [
    "binary_cols = [\"Touchscreen\", \"IPS Panel\", \"RetinaDisplay\"]"
   ]
  },
  {
   "cell_type": "code",
   "execution_count": 11,
   "id": "dbd42f7a-e4e7-4639-8fde-00f06b6b7e76",
   "metadata": {},
   "outputs": [
    {
     "data": {
      "text/html": [
       "<div>\n",
       "<style scoped>\n",
       "    .dataframe tbody tr th:only-of-type {\n",
       "        vertical-align: middle;\n",
       "    }\n",
       "\n",
       "    .dataframe tbody tr th {\n",
       "        vertical-align: top;\n",
       "    }\n",
       "\n",
       "    .dataframe thead th {\n",
       "        text-align: right;\n",
       "    }\n",
       "</style>\n",
       "<table border=\"1\" class=\"dataframe\">\n",
       "  <thead>\n",
       "    <tr style=\"text-align: right;\">\n",
       "      <th></th>\n",
       "      <th>Inches</th>\n",
       "      <th>Weight_kg</th>\n",
       "      <th>Inches_Binned</th>\n",
       "      <th>Touchscreen</th>\n",
       "      <th>IPS Panel</th>\n",
       "      <th>RetinaDisplay</th>\n",
       "      <th>ResolutionHeight</th>\n",
       "      <th>ResolutionWidthCat</th>\n",
       "      <th>CpuClockSpeed_GHz</th>\n",
       "      <th>Ram_GB</th>\n",
       "    </tr>\n",
       "  </thead>\n",
       "  <tbody>\n",
       "    <tr>\n",
       "      <th>0</th>\n",
       "      <td>13.3</td>\n",
       "      <td>1.37</td>\n",
       "      <td>2</td>\n",
       "      <td>0</td>\n",
       "      <td>1</td>\n",
       "      <td>1</td>\n",
       "      <td>1600</td>\n",
       "      <td>2560</td>\n",
       "      <td>2.3</td>\n",
       "      <td>8</td>\n",
       "    </tr>\n",
       "    <tr>\n",
       "      <th>1</th>\n",
       "      <td>13.3</td>\n",
       "      <td>1.34</td>\n",
       "      <td>2</td>\n",
       "      <td>0</td>\n",
       "      <td>0</td>\n",
       "      <td>0</td>\n",
       "      <td>900</td>\n",
       "      <td>1440</td>\n",
       "      <td>1.8</td>\n",
       "      <td>8</td>\n",
       "    </tr>\n",
       "    <tr>\n",
       "      <th>2</th>\n",
       "      <td>15.6</td>\n",
       "      <td>1.86</td>\n",
       "      <td>4</td>\n",
       "      <td>0</td>\n",
       "      <td>0</td>\n",
       "      <td>0</td>\n",
       "      <td>1080</td>\n",
       "      <td>1920</td>\n",
       "      <td>2.5</td>\n",
       "      <td>8</td>\n",
       "    </tr>\n",
       "    <tr>\n",
       "      <th>3</th>\n",
       "      <td>15.4</td>\n",
       "      <td>1.83</td>\n",
       "      <td>4</td>\n",
       "      <td>0</td>\n",
       "      <td>1</td>\n",
       "      <td>1</td>\n",
       "      <td>1800</td>\n",
       "      <td>2880</td>\n",
       "      <td>2.7</td>\n",
       "      <td>16</td>\n",
       "    </tr>\n",
       "    <tr>\n",
       "      <th>4</th>\n",
       "      <td>13.3</td>\n",
       "      <td>1.37</td>\n",
       "      <td>2</td>\n",
       "      <td>0</td>\n",
       "      <td>1</td>\n",
       "      <td>1</td>\n",
       "      <td>1600</td>\n",
       "      <td>2560</td>\n",
       "      <td>3.1</td>\n",
       "      <td>8</td>\n",
       "    </tr>\n",
       "    <tr>\n",
       "      <th>...</th>\n",
       "      <td>...</td>\n",
       "      <td>...</td>\n",
       "      <td>...</td>\n",
       "      <td>...</td>\n",
       "      <td>...</td>\n",
       "      <td>...</td>\n",
       "      <td>...</td>\n",
       "      <td>...</td>\n",
       "      <td>...</td>\n",
       "      <td>...</td>\n",
       "    </tr>\n",
       "    <tr>\n",
       "      <th>1298</th>\n",
       "      <td>14.0</td>\n",
       "      <td>1.80</td>\n",
       "      <td>3</td>\n",
       "      <td>1</td>\n",
       "      <td>1</td>\n",
       "      <td>0</td>\n",
       "      <td>1080</td>\n",
       "      <td>1920</td>\n",
       "      <td>2.5</td>\n",
       "      <td>4</td>\n",
       "    </tr>\n",
       "    <tr>\n",
       "      <th>1299</th>\n",
       "      <td>13.3</td>\n",
       "      <td>1.30</td>\n",
       "      <td>2</td>\n",
       "      <td>1</td>\n",
       "      <td>1</td>\n",
       "      <td>0</td>\n",
       "      <td>1800</td>\n",
       "      <td>3200</td>\n",
       "      <td>2.5</td>\n",
       "      <td>16</td>\n",
       "    </tr>\n",
       "    <tr>\n",
       "      <th>1300</th>\n",
       "      <td>14.0</td>\n",
       "      <td>1.50</td>\n",
       "      <td>3</td>\n",
       "      <td>0</td>\n",
       "      <td>0</td>\n",
       "      <td>0</td>\n",
       "      <td>768</td>\n",
       "      <td>1366</td>\n",
       "      <td>1.6</td>\n",
       "      <td>2</td>\n",
       "    </tr>\n",
       "    <tr>\n",
       "      <th>1301</th>\n",
       "      <td>15.6</td>\n",
       "      <td>2.19</td>\n",
       "      <td>4</td>\n",
       "      <td>0</td>\n",
       "      <td>0</td>\n",
       "      <td>0</td>\n",
       "      <td>768</td>\n",
       "      <td>1366</td>\n",
       "      <td>2.5</td>\n",
       "      <td>6</td>\n",
       "    </tr>\n",
       "    <tr>\n",
       "      <th>1302</th>\n",
       "      <td>15.6</td>\n",
       "      <td>2.20</td>\n",
       "      <td>4</td>\n",
       "      <td>0</td>\n",
       "      <td>0</td>\n",
       "      <td>0</td>\n",
       "      <td>768</td>\n",
       "      <td>1366</td>\n",
       "      <td>1.6</td>\n",
       "      <td>4</td>\n",
       "    </tr>\n",
       "  </tbody>\n",
       "</table>\n",
       "<p>1303 rows × 10 columns</p>\n",
       "</div>"
      ],
      "text/plain": [
       "      Inches  Weight_kg  Inches_Binned  Touchscreen  IPS Panel  RetinaDisplay  \\\n",
       "0       13.3       1.37              2            0          1              1   \n",
       "1       13.3       1.34              2            0          0              0   \n",
       "2       15.6       1.86              4            0          0              0   \n",
       "3       15.4       1.83              4            0          1              1   \n",
       "4       13.3       1.37              2            0          1              1   \n",
       "...      ...        ...            ...          ...        ...            ...   \n",
       "1298    14.0       1.80              3            1          1              0   \n",
       "1299    13.3       1.30              2            1          1              0   \n",
       "1300    14.0       1.50              3            0          0              0   \n",
       "1301    15.6       2.19              4            0          0              0   \n",
       "1302    15.6       2.20              4            0          0              0   \n",
       "\n",
       "      ResolutionHeight  ResolutionWidthCat  CpuClockSpeed_GHz  Ram_GB  \n",
       "0                 1600                2560                2.3       8  \n",
       "1                  900                1440                1.8       8  \n",
       "2                 1080                1920                2.5       8  \n",
       "3                 1800                2880                2.7      16  \n",
       "4                 1600                2560                3.1       8  \n",
       "...                ...                 ...                ...     ...  \n",
       "1298              1080                1920                2.5       4  \n",
       "1299              1800                3200                2.5      16  \n",
       "1300               768                1366                1.6       2  \n",
       "1301               768                1366                2.5       6  \n",
       "1302               768                1366                1.6       4  \n",
       "\n",
       "[1303 rows x 10 columns]"
      ]
     },
     "execution_count": 11,
     "metadata": {},
     "output_type": "execute_result"
    }
   ],
   "source": [
    "df_[continuous_columns]"
   ]
  },
  {
   "cell_type": "markdown",
   "id": "8a6e6caa-93f1-46ff-9c48-a2eaf33321d3",
   "metadata": {},
   "source": [
    "#### Dummy Encoding"
   ]
  },
  {
   "cell_type": "code",
   "execution_count": 12,
   "id": "fb495f3e-c17b-48f2-af5d-63bd7f647db0",
   "metadata": {},
   "outputs": [],
   "source": [
    "encoder = OneHotEncoder(drop='first', sparse_output=False)"
   ]
  },
  {
   "cell_type": "code",
   "execution_count": 13,
   "id": "18a07f2e-d93c-43f3-a80d-c083b017d30c",
   "metadata": {},
   "outputs": [],
   "source": [
    "df_encoded = pd.DataFrame(encoder.fit_transform(df_[categorical_columns]))\n",
    "df_encoded.columns = encoder.get_feature_names_out(categorical_columns)"
   ]
  },
  {
   "cell_type": "code",
   "execution_count": 14,
   "id": "b1eb8f94-3133-4e27-8b9e-eec24d2c6c76",
   "metadata": {},
   "outputs": [],
   "source": [
    "df_encoded2 = pd.DataFrame(encoder.fit_transform(df_[binary_cols]))\n",
    "df_encoded2.columns = encoder.get_feature_names_out(binary_cols)"
   ]
  },
  {
   "cell_type": "code",
   "execution_count": 15,
   "id": "ea723eea-b2ee-4c24-8c69-c1992270750e",
   "metadata": {},
   "outputs": [],
   "source": [
    "df_encoded = pd.concat([df_encoded, df_encoded2], axis=1)"
   ]
  },
  {
   "cell_type": "markdown",
   "id": "b82ca63e-7071-4260-8f9c-539c910f49bf",
   "metadata": {},
   "source": [
    "#### Scaling"
   ]
  },
  {
   "cell_type": "code",
   "execution_count": 16,
   "id": "a5d6e22e-1af3-4db0-be69-0020b55ee8f1",
   "metadata": {},
   "outputs": [],
   "source": [
    "scaler = StandardScaler()"
   ]
  },
  {
   "cell_type": "code",
   "execution_count": 17,
   "id": "105d1fc5-acef-49db-8a69-ab5abd5c0c2d",
   "metadata": {},
   "outputs": [],
   "source": [
    "for col in binary_cols:\n",
    "    if col in continuous_columns:\n",
    "        continuous_columns.remove(col)"
   ]
  },
  {
   "cell_type": "code",
   "execution_count": 18,
   "id": "3a77aec5-7bd8-4b42-a5c8-a40176dda5e5",
   "metadata": {},
   "outputs": [],
   "source": [
    "df_scaled = scaler.fit_transform(df_[continuous_columns])"
   ]
  },
  {
   "cell_type": "code",
   "execution_count": 19,
   "id": "3a355db9-23c4-4dc4-8dc5-9f6a9703a206",
   "metadata": {},
   "outputs": [],
   "source": [
    "df_scaled = pd.DataFrame(df_scaled, columns=continuous_columns)"
   ]
  },
  {
   "cell_type": "markdown",
   "id": "872c4281-7f5c-4eed-8416-7412185e269e",
   "metadata": {},
   "source": [
    "#### Merge dfs"
   ]
  },
  {
   "cell_type": "code",
   "execution_count": 29,
   "id": "3ef1d6d9-815b-4524-b3b6-395cd6d1b3c8",
   "metadata": {},
   "outputs": [],
   "source": [
    "X = pd.merge(df_scaled, df_encoded, left_index=True, right_index=True)\n",
    "X"
   ]
  },
  {
   "cell_type": "markdown",
   "id": "e30b807e-9dd0-48f6-a9ef-ec1ce3270777",
   "metadata": {},
   "source": [
    "#### Test train split"
   ]
  },
  {
   "cell_type": "code",
   "execution_count": 30,
   "id": "a5198e01-81fa-4510-9b7c-984090fe0fe8",
   "metadata": {},
   "outputs": [],
   "source": [
    "X_train, X_test, y_train, y_test = train_test_split(X, y, test_size=0.2, random_state=42)"
   ]
  },
  {
   "cell_type": "markdown",
   "id": "38b87fa4-114c-4466-a4df-12394dec474f",
   "metadata": {},
   "source": [
    "#### Modelling"
   ]
  },
  {
   "cell_type": "code",
   "execution_count": 31,
   "id": "8aa62c92-afc4-431a-8f07-5da5d3d8afae",
   "metadata": {},
   "outputs": [
    {
     "name": "stdout",
     "output_type": "stream",
     "text": [
      "Mean Squared Error: 174635.29538522955\n",
      "Coefficients: [  -6.97224924   56.90920525 -118.54217418  165.89933373   17.03066071\n",
      "  149.6562291   384.24242892]\n",
      "Intercept: 1128.2863174733209\n",
      "R^2 Score: 0.6561800046468299\n"
     ]
    }
   ],
   "source": [
    "model = LinearRegression()\n",
    "\n",
    "model.fit(X_train, y_train)\n",
    "y_pred = model.predict(X_test)\n",
    "\n",
    "mse = mean_squared_error(y_test, y_pred)\n",
    "print(\"Mean Squared Error:\", mse)\n",
    "\n",
    "\n",
    "print(\"Coefficients:\", model.coef_)\n",
    "print(\"Intercept:\", model.intercept_)\n",
    "\n",
    "r2 = r2_score(y_test, y_pred)\n",
    "print(\"R^2 Score:\", r2)"
   ]
  },
  {
   "cell_type": "code",
   "execution_count": null,
   "id": "171c0092-08bf-4b75-a79c-dcdd521162c3",
   "metadata": {},
   "outputs": [],
   "source": []
  },
  {
   "cell_type": "code",
   "execution_count": null,
   "id": "f6f2341c-a2bc-48ce-a8c2-61327848ff28",
   "metadata": {},
   "outputs": [],
   "source": []
  }
 ],
 "metadata": {
  "kernelspec": {
   "display_name": "Python 3 (ipykernel)",
   "language": "python",
   "name": "python3"
  },
  "language_info": {
   "codemirror_mode": {
    "name": "ipython",
    "version": 3
   },
   "file_extension": ".py",
   "mimetype": "text/x-python",
   "name": "python",
   "nbconvert_exporter": "python",
   "pygments_lexer": "ipython3",
   "version": "3.11.5"
  }
 },
 "nbformat": 4,
 "nbformat_minor": 5
}
